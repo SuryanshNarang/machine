{
 "cells": [
  {
   "cell_type": "markdown",
   "id": "a4a30f66-0ecc-464f-8e10-2985d29c157c",
   "metadata": {},
   "source": [
    "# Machine Learning Project (Ques-1)\n",
    "\n",
    "**Programme:** Master of Computer Applications <br>\n",
    "**Semester:** 2nd <br>\n",
    "\n",
    "**Members:**\n",
    "1. Geetansh Khaturia (23MCA0064)\n",
    "2. Shivam Verma (23MCA0159)\n",
    "3. Suryansh Narang (23MCA0166)"
   ]
  },
  {
   "cell_type": "code",
   "execution_count": 1,
   "id": "da605604-6d5c-45c9-aa00-6c3dc82d168b",
   "metadata": {},
   "outputs": [],
   "source": [
    "import pandas as pd\n",
    "import matplotlib.pyplot as plt\n",
    "import seaborn as sns\n",
    "from sklearn.model_selection import train_test_split\n",
    "from sklearn.preprocessing import StandardScaler, LabelEncoder\n",
    "from imblearn.over_sampling import SMOTE\n",
    "from sklearn.svm import SVC\n",
    "from sklearn.metrics import accuracy_score, f1_score, confusion_matrix\n",
    "import pickle"
   ]
  },
  {
   "cell_type": "code",
   "execution_count": 2,
   "id": "29a245cd-255d-4c31-a4e4-323ead3c09b1",
   "metadata": {},
   "outputs": [
    {
     "data": {
      "text/html": [
       "<div>\n",
       "<style scoped>\n",
       "    .dataframe tbody tr th:only-of-type {\n",
       "        vertical-align: middle;\n",
       "    }\n",
       "\n",
       "    .dataframe tbody tr th {\n",
       "        vertical-align: top;\n",
       "    }\n",
       "\n",
       "    .dataframe thead th {\n",
       "        text-align: right;\n",
       "    }\n",
       "</style>\n",
       "<table border=\"1\" class=\"dataframe\">\n",
       "  <thead>\n",
       "    <tr style=\"text-align: right;\">\n",
       "      <th></th>\n",
       "      <th>S.No</th>\n",
       "      <th>CHK_ACCT</th>\n",
       "      <th>Duration</th>\n",
       "      <th>History</th>\n",
       "      <th>Purpose of credit</th>\n",
       "      <th>Credit Amount</th>\n",
       "      <th>Balance in Savings A/C</th>\n",
       "      <th>Employment</th>\n",
       "      <th>Install_rate</th>\n",
       "      <th>Marital status</th>\n",
       "      <th>...</th>\n",
       "      <th>Real Estate</th>\n",
       "      <th>Age</th>\n",
       "      <th>Other installment</th>\n",
       "      <th>Residence</th>\n",
       "      <th>Num_Credits</th>\n",
       "      <th>Job</th>\n",
       "      <th>No. dependents</th>\n",
       "      <th>Phone</th>\n",
       "      <th>Foreign</th>\n",
       "      <th>Credit classification</th>\n",
       "    </tr>\n",
       "  </thead>\n",
       "  <tbody>\n",
       "    <tr>\n",
       "      <th>0</th>\n",
       "      <td>1</td>\n",
       "      <td>0DM</td>\n",
       "      <td>6</td>\n",
       "      <td>critical</td>\n",
       "      <td>radio-tv</td>\n",
       "      <td>1169</td>\n",
       "      <td>unknown</td>\n",
       "      <td>over-seven</td>\n",
       "      <td>4</td>\n",
       "      <td>single-male</td>\n",
       "      <td>...</td>\n",
       "      <td>real-estate</td>\n",
       "      <td>67</td>\n",
       "      <td>none</td>\n",
       "      <td>own</td>\n",
       "      <td>2</td>\n",
       "      <td>skilled</td>\n",
       "      <td>1</td>\n",
       "      <td>no</td>\n",
       "      <td>yes</td>\n",
       "      <td>good.</td>\n",
       "    </tr>\n",
       "    <tr>\n",
       "      <th>1</th>\n",
       "      <td>2</td>\n",
       "      <td>less-200DM</td>\n",
       "      <td>48</td>\n",
       "      <td>duly-till-now</td>\n",
       "      <td>radio-tv</td>\n",
       "      <td>5951</td>\n",
       "      <td>less100DM</td>\n",
       "      <td>four-years</td>\n",
       "      <td>2</td>\n",
       "      <td>female-divorced</td>\n",
       "      <td>...</td>\n",
       "      <td>real-estate</td>\n",
       "      <td>22</td>\n",
       "      <td>none</td>\n",
       "      <td>own</td>\n",
       "      <td>1</td>\n",
       "      <td>skilled</td>\n",
       "      <td>1</td>\n",
       "      <td>yes</td>\n",
       "      <td>yes</td>\n",
       "      <td>bad.</td>\n",
       "    </tr>\n",
       "    <tr>\n",
       "      <th>2</th>\n",
       "      <td>3</td>\n",
       "      <td>no-account</td>\n",
       "      <td>12</td>\n",
       "      <td>critical</td>\n",
       "      <td>education</td>\n",
       "      <td>2096</td>\n",
       "      <td>less100DM</td>\n",
       "      <td>seven-years</td>\n",
       "      <td>2</td>\n",
       "      <td>single-male</td>\n",
       "      <td>...</td>\n",
       "      <td>real-estate</td>\n",
       "      <td>49</td>\n",
       "      <td>none</td>\n",
       "      <td>own</td>\n",
       "      <td>1</td>\n",
       "      <td>unskilled-resident</td>\n",
       "      <td>2</td>\n",
       "      <td>yes</td>\n",
       "      <td>yes</td>\n",
       "      <td>good.</td>\n",
       "    </tr>\n",
       "    <tr>\n",
       "      <th>3</th>\n",
       "      <td>4</td>\n",
       "      <td>0DM</td>\n",
       "      <td>42</td>\n",
       "      <td>duly-till-now</td>\n",
       "      <td>furniture</td>\n",
       "      <td>7882</td>\n",
       "      <td>less100DM</td>\n",
       "      <td>seven-years</td>\n",
       "      <td>2</td>\n",
       "      <td>single-male</td>\n",
       "      <td>...</td>\n",
       "      <td>building-society</td>\n",
       "      <td>45</td>\n",
       "      <td>none</td>\n",
       "      <td>free</td>\n",
       "      <td>1</td>\n",
       "      <td>skilled</td>\n",
       "      <td>2</td>\n",
       "      <td>yes</td>\n",
       "      <td>yes</td>\n",
       "      <td>good.</td>\n",
       "    </tr>\n",
       "    <tr>\n",
       "      <th>4</th>\n",
       "      <td>5</td>\n",
       "      <td>0DM</td>\n",
       "      <td>24</td>\n",
       "      <td>delay</td>\n",
       "      <td>new-car</td>\n",
       "      <td>4870</td>\n",
       "      <td>less100DM</td>\n",
       "      <td>four-years</td>\n",
       "      <td>3</td>\n",
       "      <td>single-male</td>\n",
       "      <td>...</td>\n",
       "      <td>none</td>\n",
       "      <td>53</td>\n",
       "      <td>none</td>\n",
       "      <td>free</td>\n",
       "      <td>2</td>\n",
       "      <td>skilled</td>\n",
       "      <td>2</td>\n",
       "      <td>yes</td>\n",
       "      <td>yes</td>\n",
       "      <td>bad.</td>\n",
       "    </tr>\n",
       "  </tbody>\n",
       "</table>\n",
       "<p>5 rows × 23 columns</p>\n",
       "</div>"
      ],
      "text/plain": [
       "   S.No    CHK_ACCT  Duration         History Purpose of credit  \\\n",
       "0     1         0DM         6        critical          radio-tv   \n",
       "1     2  less-200DM        48   duly-till-now          radio-tv   \n",
       "2     3  no-account        12        critical         education   \n",
       "3     4         0DM        42   duly-till-now         furniture   \n",
       "4     5         0DM        24           delay           new-car   \n",
       "\n",
       "   Credit Amount Balance in Savings A/C    Employment  Install_rate  \\\n",
       "0           1169                unknown    over-seven             4   \n",
       "1           5951              less100DM    four-years             2   \n",
       "2           2096              less100DM   seven-years             2   \n",
       "3           7882              less100DM   seven-years             2   \n",
       "4           4870              less100DM    four-years             3   \n",
       "\n",
       "     Marital status  ...        Real Estate Age  Other installment Residence  \\\n",
       "0       single-male  ...        real-estate  67               none       own   \n",
       "1   female-divorced  ...        real-estate  22               none       own   \n",
       "2       single-male  ...        real-estate  49               none       own   \n",
       "3       single-male  ...   building-society  45               none      free   \n",
       "4       single-male  ...               none  53               none      free   \n",
       "\n",
       "   Num_Credits                  Job No. dependents  Phone Foreign  \\\n",
       "0            2              skilled              1     no     yes   \n",
       "1            1              skilled              1    yes     yes   \n",
       "2            1   unskilled-resident              2    yes     yes   \n",
       "3            1              skilled              2    yes     yes   \n",
       "4            2              skilled              2    yes     yes   \n",
       "\n",
       "   Credit classification  \n",
       "0                  good.  \n",
       "1                   bad.  \n",
       "2                  good.  \n",
       "3                  good.  \n",
       "4                   bad.  \n",
       "\n",
       "[5 rows x 23 columns]"
      ]
     },
     "execution_count": 2,
     "metadata": {},
     "output_type": "execute_result"
    }
   ],
   "source": [
    "data = pd.read_excel(\"credit_rating.xls\")\n",
    "data.head()"
   ]
  },
  {
   "cell_type": "markdown",
   "id": "caf4f1ea-f75b-4ab9-9ca7-98d8ca820d11",
   "metadata": {},
   "source": [
    "## Data Preprocessing"
   ]
  },
  {
   "cell_type": "code",
   "execution_count": 3,
   "id": "6ac04f3e-95a7-407b-9324-cbea33898f12",
   "metadata": {},
   "outputs": [],
   "source": [
    "data.drop(columns=[\"S.No\", \"S.No.\"], axis=1, inplace=True)"
   ]
  },
  {
   "cell_type": "code",
   "execution_count": 4,
   "id": "a3a08b24-2430-40a8-a97a-e553dfca8fe0",
   "metadata": {},
   "outputs": [
    {
     "name": "stdout",
     "output_type": "stream",
     "text": [
      "Number of duplicate rows: 0\n",
      "Number of duplicate columns: 0\n"
     ]
    }
   ],
   "source": [
    "duplicate_rows = data.duplicated().sum()\n",
    "duplicate_cols = data.columns.duplicated().sum()\n",
    "\n",
    "print(\"Number of duplicate rows:\", duplicate_rows)\n",
    "print(\"Number of duplicate columns:\", duplicate_cols)"
   ]
  },
  {
   "cell_type": "code",
   "execution_count": 5,
   "id": "42a034cb-8ae5-492b-b929-ddf302c61aa8",
   "metadata": {},
   "outputs": [
    {
     "name": "stdout",
     "output_type": "stream",
     "text": [
      "Number of null values...\n",
      "CHK_ACCT                  0\n",
      "Duration                  0\n",
      "History                   0\n",
      "Purpose of credit         0\n",
      "Credit Amount             0\n",
      "Balance in Savings A/C    0\n",
      "Employment                0\n",
      "Install_rate              0\n",
      "Marital status            0\n",
      "Co-applicant              0\n",
      "Present Resident          0\n",
      "Real Estate               0\n",
      "Age                       0\n",
      "Other installment         0\n",
      "Residence                 0\n",
      "Num_Credits               0\n",
      "Job                       0\n",
      "No. dependents            0\n",
      "Phone                     0\n",
      "Foreign                   0\n",
      "Credit classification     0\n",
      "dtype: int64\n"
     ]
    }
   ],
   "source": [
    "null_values = data.isnull().sum()\n",
    "print(\"Number of null values...\")\n",
    "print(null_values)"
   ]
  },
  {
   "cell_type": "code",
   "execution_count": 6,
   "id": "16e02f81-5182-4ad4-b7cc-a8a3864d2d0d",
   "metadata": {},
   "outputs": [
    {
     "name": "stdout",
     "output_type": "stream",
     "text": [
      "Number of values in target variable...\n",
      "Credit classification\n",
      " good.    700\n",
      " bad.     300\n",
      "Name: count, dtype: int64\n"
     ]
    }
   ],
   "source": [
    "print(\"Number of values in target variable...\")\n",
    "print(data[\"Credit classification\"].value_counts())"
   ]
  },
  {
   "cell_type": "markdown",
   "id": "fcf0ab2d-c76d-4769-a01d-1fc3d22b4a56",
   "metadata": {},
   "source": [
    "**Encoding the discrete values of categorical attributes.**"
   ]
  },
  {
   "cell_type": "code",
   "execution_count": 7,
   "id": "ce7f7234-9f85-4062-9d22-1c3f08ec7eb7",
   "metadata": {},
   "outputs": [],
   "source": [
    "label_encoders = {}\n",
    "\n",
    "for column in data.columns:\n",
    "    if data[column].dtype == 'object':\n",
    "        label_encoders[column] = LabelEncoder()\n",
    "        data[column] = label_encoders[column].fit_transform(data[column])"
   ]
  },
  {
   "cell_type": "markdown",
   "id": "a79be3d4-d243-4386-bb5e-7d24b243d5ab",
   "metadata": {},
   "source": [
    "**Segregating independent and target variables.**"
   ]
  },
  {
   "cell_type": "code",
   "execution_count": 8,
   "id": "6a1ebc8e-e1d0-4cbf-b142-ab23388c1124",
   "metadata": {},
   "outputs": [],
   "source": [
    "X = data.drop(columns=['Credit classification'])\n",
    "y = data['Credit classification']"
   ]
  },
  {
   "cell_type": "markdown",
   "id": "e341f4bc-3f84-4bb3-a8ff-9dfde7ff7102",
   "metadata": {},
   "source": [
    "**Normalizing the independent variables.**"
   ]
  },
  {
   "cell_type": "code",
   "execution_count": 9,
   "id": "a7be5820-db5a-4769-b900-4398a87c0d45",
   "metadata": {},
   "outputs": [],
   "source": [
    "scaler = StandardScaler()\n",
    "X_scaled = scaler.fit_transform(X)"
   ]
  },
  {
   "cell_type": "markdown",
   "id": "2d4e36e0-02e8-47a5-9b75-a853721b7b1a",
   "metadata": {},
   "source": [
    "**Using SMOTE technique to handle class imbalance.**"
   ]
  },
  {
   "cell_type": "code",
   "execution_count": 10,
   "id": "8d5f9c3c-31aa-4c45-819b-4a7ae51ee3b5",
   "metadata": {},
   "outputs": [],
   "source": [
    "smote = SMOTE(random_state=42)\n",
    "X_resampled, y_resampled = smote.fit_resample(X_scaled, y)"
   ]
  },
  {
   "cell_type": "code",
   "execution_count": 11,
   "id": "c6fdef1b-c731-466a-825c-a5363c105c3d",
   "metadata": {},
   "outputs": [
    {
     "name": "stdout",
     "output_type": "stream",
     "text": [
      "Credit classification\n",
      "1    700\n",
      "0    700\n",
      "Name: count, dtype: int64\n"
     ]
    }
   ],
   "source": [
    "print(y_resampled.value_counts())"
   ]
  },
  {
   "cell_type": "markdown",
   "id": "f54ef08f-ac23-46b9-b226-faa76695ff7b",
   "metadata": {},
   "source": [
    "**Splitting the dataset into training and test sets.**"
   ]
  },
  {
   "cell_type": "code",
   "execution_count": 12,
   "id": "a9f826e1-1579-42af-98fa-e62e676492c6",
   "metadata": {},
   "outputs": [],
   "source": [
    "X_train, X_test, y_train, y_test = train_test_split(X_resampled, y_resampled, test_size=0.2, random_state=42)"
   ]
  },
  {
   "cell_type": "markdown",
   "id": "43aaf113-410c-470a-8718-dce240260ff9",
   "metadata": {},
   "source": [
    "## Support Vector Machine"
   ]
  },
  {
   "cell_type": "code",
   "execution_count": 13,
   "id": "b1226a91-73a2-4055-9e72-5c90c378e558",
   "metadata": {},
   "outputs": [
    {
     "data": {
      "text/html": [
       "<style>#sk-container-id-1 {color: black;background-color: white;}#sk-container-id-1 pre{padding: 0;}#sk-container-id-1 div.sk-toggleable {background-color: white;}#sk-container-id-1 label.sk-toggleable__label {cursor: pointer;display: block;width: 100%;margin-bottom: 0;padding: 0.3em;box-sizing: border-box;text-align: center;}#sk-container-id-1 label.sk-toggleable__label-arrow:before {content: \"▸\";float: left;margin-right: 0.25em;color: #696969;}#sk-container-id-1 label.sk-toggleable__label-arrow:hover:before {color: black;}#sk-container-id-1 div.sk-estimator:hover label.sk-toggleable__label-arrow:before {color: black;}#sk-container-id-1 div.sk-toggleable__content {max-height: 0;max-width: 0;overflow: hidden;text-align: left;background-color: #f0f8ff;}#sk-container-id-1 div.sk-toggleable__content pre {margin: 0.2em;color: black;border-radius: 0.25em;background-color: #f0f8ff;}#sk-container-id-1 input.sk-toggleable__control:checked~div.sk-toggleable__content {max-height: 200px;max-width: 100%;overflow: auto;}#sk-container-id-1 input.sk-toggleable__control:checked~label.sk-toggleable__label-arrow:before {content: \"▾\";}#sk-container-id-1 div.sk-estimator input.sk-toggleable__control:checked~label.sk-toggleable__label {background-color: #d4ebff;}#sk-container-id-1 div.sk-label input.sk-toggleable__control:checked~label.sk-toggleable__label {background-color: #d4ebff;}#sk-container-id-1 input.sk-hidden--visually {border: 0;clip: rect(1px 1px 1px 1px);clip: rect(1px, 1px, 1px, 1px);height: 1px;margin: -1px;overflow: hidden;padding: 0;position: absolute;width: 1px;}#sk-container-id-1 div.sk-estimator {font-family: monospace;background-color: #f0f8ff;border: 1px dotted black;border-radius: 0.25em;box-sizing: border-box;margin-bottom: 0.5em;}#sk-container-id-1 div.sk-estimator:hover {background-color: #d4ebff;}#sk-container-id-1 div.sk-parallel-item::after {content: \"\";width: 100%;border-bottom: 1px solid gray;flex-grow: 1;}#sk-container-id-1 div.sk-label:hover label.sk-toggleable__label {background-color: #d4ebff;}#sk-container-id-1 div.sk-serial::before {content: \"\";position: absolute;border-left: 1px solid gray;box-sizing: border-box;top: 0;bottom: 0;left: 50%;z-index: 0;}#sk-container-id-1 div.sk-serial {display: flex;flex-direction: column;align-items: center;background-color: white;padding-right: 0.2em;padding-left: 0.2em;position: relative;}#sk-container-id-1 div.sk-item {position: relative;z-index: 1;}#sk-container-id-1 div.sk-parallel {display: flex;align-items: stretch;justify-content: center;background-color: white;position: relative;}#sk-container-id-1 div.sk-item::before, #sk-container-id-1 div.sk-parallel-item::before {content: \"\";position: absolute;border-left: 1px solid gray;box-sizing: border-box;top: 0;bottom: 0;left: 50%;z-index: -1;}#sk-container-id-1 div.sk-parallel-item {display: flex;flex-direction: column;z-index: 1;position: relative;background-color: white;}#sk-container-id-1 div.sk-parallel-item:first-child::after {align-self: flex-end;width: 50%;}#sk-container-id-1 div.sk-parallel-item:last-child::after {align-self: flex-start;width: 50%;}#sk-container-id-1 div.sk-parallel-item:only-child::after {width: 0;}#sk-container-id-1 div.sk-dashed-wrapped {border: 1px dashed gray;margin: 0 0.4em 0.5em 0.4em;box-sizing: border-box;padding-bottom: 0.4em;background-color: white;}#sk-container-id-1 div.sk-label label {font-family: monospace;font-weight: bold;display: inline-block;line-height: 1.2em;}#sk-container-id-1 div.sk-label-container {text-align: center;}#sk-container-id-1 div.sk-container {/* jupyter's `normalize.less` sets `[hidden] { display: none; }` but bootstrap.min.css set `[hidden] { display: none !important; }` so we also need the `!important` here to be able to override the default hidden behavior on the sphinx rendered scikit-learn.org. See: https://github.com/scikit-learn/scikit-learn/issues/21755 */display: inline-block !important;position: relative;}#sk-container-id-1 div.sk-text-repr-fallback {display: none;}</style><div id=\"sk-container-id-1\" class=\"sk-top-container\"><div class=\"sk-text-repr-fallback\"><pre>SVC()</pre><b>In a Jupyter environment, please rerun this cell to show the HTML representation or trust the notebook. <br />On GitHub, the HTML representation is unable to render, please try loading this page with nbviewer.org.</b></div><div class=\"sk-container\" hidden><div class=\"sk-item\"><div class=\"sk-estimator sk-toggleable\"><input class=\"sk-toggleable__control sk-hidden--visually\" id=\"sk-estimator-id-1\" type=\"checkbox\" checked><label for=\"sk-estimator-id-1\" class=\"sk-toggleable__label sk-toggleable__label-arrow\">SVC</label><div class=\"sk-toggleable__content\"><pre>SVC()</pre></div></div></div></div></div>"
      ],
      "text/plain": [
       "SVC()"
      ]
     },
     "execution_count": 13,
     "metadata": {},
     "output_type": "execute_result"
    }
   ],
   "source": [
    "clf = SVC(kernel=\"rbf\")\n",
    "clf.fit(X_train, y_train)"
   ]
  },
  {
   "cell_type": "markdown",
   "id": "0516cf69-70c9-4ecf-8bde-754fcfa0cfc8",
   "metadata": {},
   "source": [
    "**Evaluating the performance of SVM Classifier model.**"
   ]
  },
  {
   "cell_type": "code",
   "execution_count": 14,
   "id": "eac09e22-90b6-466b-ab9b-f7b309384978",
   "metadata": {},
   "outputs": [],
   "source": [
    "y_pred = clf.predict(X_test)\n",
    "cm = confusion_matrix(y_test, y_pred)\n",
    "acc = accuracy_score(y_test, y_pred)\n",
    "f1 = f1_score(y_test, y_pred)"
   ]
  },
  {
   "cell_type": "code",
   "execution_count": 15,
   "id": "a5f52496-5ff7-4cb0-828c-35fca89e0ea2",
   "metadata": {},
   "outputs": [
    {
     "name": "stdout",
     "output_type": "stream",
     "text": [
      "Accuracy: 0.825\n",
      "F1 Score: 0.8304498269896193\n",
      "[[111  20]\n",
      " [ 29 120]]\n"
     ]
    }
   ],
   "source": [
    "print(\"Accuracy:\", acc)\n",
    "print(\"F1 Score:\", f1)\n",
    "print(cm)"
   ]
  },
  {
   "cell_type": "code",
   "execution_count": 16,
   "id": "744f3fa3-e685-4e47-824c-32a7601bc81d",
   "metadata": {},
   "outputs": [],
   "source": [
    "with open(\"model.pkl\", \"wb\") as file:\n",
    "    pickle.dump((clf, scaler, label_encoders), file)"
   ]
  }
 ],
 "metadata": {
  "kernelspec": {
   "display_name": "Python 3 (ipykernel)",
   "language": "python",
   "name": "python3"
  },
  "language_info": {
   "codemirror_mode": {
    "name": "ipython",
    "version": 3
   },
   "file_extension": ".py",
   "mimetype": "text/x-python",
   "name": "python",
   "nbconvert_exporter": "python",
   "pygments_lexer": "ipython3",
   "version": "3.11.5"
  }
 },
 "nbformat": 4,
 "nbformat_minor": 5
}
